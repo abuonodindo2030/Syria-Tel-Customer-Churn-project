{
 "cells": [
  {
   "cell_type": "markdown",
   "id": "0c303ab2",
   "metadata": {},
   "source": [
    "#### SyriaTel Customer Churn Prediction\n",
    "Customer churn poses a major threat to SyriaTel,a telcom Service Provider, leading to revenue loss and increased marketing expenses. Retaining existing customers is significantly more cost-effective than acquiring new ones. This project aims to build a predictive model that identifies customers at high risk of churning, allowing SyriaTel to act before they leave.\n",
    "\n",
    "By analyzing customer usage behavior, billing patterns, and service history, we can develop a churn prediction system that empowers the business to launch targeted retention efforts—such as personalized offers or proactive service follow-ups.\n",
    "\n",
    "#### Problem Understanding\n",
    "\n",
    "Business Challenge: SyriaTel wants to reduce churn by identifying customers likely to cancel their service.\n",
    "\n",
    "Technical Approach: Build a binary classification model using customer activity, billing data, and service interactions to predict churn risk. The output will guide SyriaTel in taking data-driven actions to retain customers and minimize revenue loss."
   ]
  },
  {
   "cell_type": "code",
   "execution_count": 2,
   "id": "7459f0f8",
   "metadata": {},
   "outputs": [],
   "source": [
    "\n",
    "# Import necessary libraries\n",
    "# Data manipulation and visualization\n",
    "import pandas as pd\n",
    "import numpy as np\n",
    "import matplotlib.pyplot as plt\n",
    "import seaborn as sns\n",
    "\n",
    "# Ignore warnings\n",
    "import warnings\n",
    "warnings.filterwarnings('ignore')\n",
    "\n",
    "# Machine learning libraries\n",
    "from sklearn.model_selection import (\n",
    "    train_test_split, cross_val_score, GridSearchCV, StratifiedKFold\n",
    ")\n",
    "from sklearn.preprocessing import StandardScaler, LabelEncoder\n",
    "from sklearn.feature_selection import SelectKBest, f_classif\n",
    "\n",
    "# Classifiers\n",
    "from sklearn.linear_model import LogisticRegression\n",
    "from sklearn.ensemble import RandomForestClassifier, GradientBoostingClassifier\n",
    "from sklearn.tree import DecisionTreeClassifier\n",
    "\n",
    "# Evaluation metrics\n",
    "from sklearn.metrics import (\n",
    "    classification_report, confusion_matrix, roc_auc_score, roc_curve,\n",
    "    precision_recall_curve, accuracy_score, precision_score, recall_score, f1_score\n",
    ")\n",
    "\n",
    "# Plot settings\n",
    "plt.style.use('default')\n",
    "sns.set(style='whitegrid', palette='husl')\n"
   ]
  },
  {
   "cell_type": "markdown",
   "id": "a3b40a64",
   "metadata": {},
   "source": [
    "## **Data Loading and Initial Exploration**\n",
    "\n",
    "We start by loading the dataset and gaining an initial understanding of its structure before diving into preprocessing or modeling.\n",
    "\n",
    "Key steps in this section include:\n",
    "- Loading the data from a CSV file\n",
    "- Inspecting the dataset shape and column types\n",
    "- Previewing the first few rows\n",
    "- Checking for any missing values\n",
    "- Generating basic descriptive statistics"
   ]
  },
  {
   "cell_type": "code",
   "execution_count": 8,
   "id": "ef34da62",
   "metadata": {},
   "outputs": [],
   "source": [
    "# Load the dataset\n",
    "df = pd.read_csv(\"C:/Users/user/Documents/MORINGA/Phase3/Phase3Project/TelcomData.csv\")"
   ]
  },
  {
   "cell_type": "code",
   "execution_count": 9,
   "id": "7e4c0cf8",
   "metadata": {},
   "outputs": [
    {
     "data": {
      "text/plain": [
       "(3333, 21)"
      ]
     },
     "execution_count": 9,
     "metadata": {},
     "output_type": "execute_result"
    }
   ],
   "source": [
    "df.shape"
   ]
  },
  {
   "cell_type": "code",
   "execution_count": null,
   "id": "b3d4bc7f",
   "metadata": {},
   "outputs": [],
   "source": []
  }
 ],
 "metadata": {
  "kernelspec": {
   "display_name": "base",
   "language": "python",
   "name": "python3"
  },
  "language_info": {
   "codemirror_mode": {
    "name": "ipython",
    "version": 3
   },
   "file_extension": ".py",
   "mimetype": "text/x-python",
   "name": "python",
   "nbconvert_exporter": "python",
   "pygments_lexer": "ipython3",
   "version": "3.9.12"
  }
 },
 "nbformat": 4,
 "nbformat_minor": 5
}
