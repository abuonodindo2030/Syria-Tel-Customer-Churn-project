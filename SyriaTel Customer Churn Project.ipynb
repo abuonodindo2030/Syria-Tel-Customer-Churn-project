{
 "cells": [
  {
   "cell_type": "code",
   "execution_count": null,
   "id": "83a6f318",
   "metadata": {},
   "outputs": [],
   "source": []
  }
 ],
 "metadata": {
  "language_info": {
   "name": "python"
  }
 },
 "nbformat": 4,
 "nbformat_minor": 5
}
